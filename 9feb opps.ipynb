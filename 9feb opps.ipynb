{
 "cells": [
  {
   "cell_type": "markdown",
   "id": "c601b226-6b13-4883-a200-cec79dec4075",
   "metadata": {},
   "source": [
    "Assignment -- 9 feb task"
   ]
  },
  {
   "cell_type": "markdown",
   "id": "356516fa-de9f-44c1-a52d-9ac23d15d8ea",
   "metadata": {},
   "source": [
    "Ques - 1 "
   ]
  },
  {
   "cell_type": "code",
   "execution_count": 1,
   "id": "0f457f52-d8fc-44dc-9570-78689b24de0d",
   "metadata": {},
   "outputs": [],
   "source": [
    "class vehicle:\n",
    "    def __init__(self,name_of_vehicle,max_speed,average_of_vehicle):\n",
    "        self.name_of_vehicle=name_of_vehicle\n",
    "        self.max_speed=max_speed\n",
    "        self.average_of_vehicle=average_of_vehicle"
   ]
  },
  {
   "cell_type": "markdown",
   "id": "29f9ff0e-9ba2-42a6-af43-6da3c991e345",
   "metadata": {},
   "source": [
    "Ques- 2"
   ]
  },
  {
   "cell_type": "code",
   "execution_count": 4,
   "id": "b701846e-889c-484c-aa87-604719faa8db",
   "metadata": {},
   "outputs": [],
   "source": [
    "class car(vehicle):\n",
    "    def seating_capacity(self,capacity):\n",
    "        self.capacity=capacity\n",
    "        return self.name_of_vehicle, self.capacity"
   ]
  },
  {
   "cell_type": "code",
   "execution_count": 5,
   "id": "35986103-5be7-4bb6-bc96-b71038920f87",
   "metadata": {},
   "outputs": [],
   "source": [
    "car=car(\"maruti\",80,50)"
   ]
  },
  {
   "cell_type": "code",
   "execution_count": 6,
   "id": "ea217a60-800b-4f0f-90a9-03aa0ee2b56b",
   "metadata": {},
   "outputs": [
    {
     "data": {
      "text/plain": [
       "('maruti', 5)"
      ]
     },
     "execution_count": 6,
     "metadata": {},
     "output_type": "execute_result"
    }
   ],
   "source": [
    "car.seating_capacity(5)"
   ]
  },
  {
   "cell_type": "markdown",
   "id": "2500b522-19cb-46f4-b31c-98f5e38cc96e",
   "metadata": {},
   "source": [
    "Ques - 3"
   ]
  },
  {
   "cell_type": "code",
   "execution_count": 7,
   "id": "42380160-f4ca-45a4-85ce-275a5df5de25",
   "metadata": {},
   "outputs": [],
   "source": [
    " #if a child class inherits from more than one class, "
   ]
  },
  {
   "cell_type": "code",
   "execution_count": 8,
   "id": "b1d27c59-0a7c-4f84-8188-da5291977ea2",
   "metadata": {},
   "outputs": [],
   "source": [
    "class c1:\n",
    "    def c1(self):\n",
    "        return\"this is first class c1\"\n",
    "class c2:\n",
    "    def c2(self):\n",
    "        return\"this is 2nd class c2\"\n",
    "class c3(c1,c2):\n",
    "    pass"
   ]
  },
  {
   "cell_type": "code",
   "execution_count": 12,
   "id": "fa91f8f8-e860-44b0-a943-7873bdbc51be",
   "metadata": {},
   "outputs": [],
   "source": [
    "obj = c3()\n"
   ]
  },
  {
   "cell_type": "code",
   "execution_count": 13,
   "id": "c97e63df-4a31-421a-826d-5653fb959640",
   "metadata": {},
   "outputs": [
    {
     "data": {
      "text/plain": [
       "'this is 2nd class c2'"
      ]
     },
     "execution_count": 13,
     "metadata": {},
     "output_type": "execute_result"
    }
   ],
   "source": [
    "obj.c2()"
   ]
  },
  {
   "cell_type": "code",
   "execution_count": null,
   "id": "31e2afde-9bad-426d-bde4-ca0ffde9e0b5",
   "metadata": {},
   "outputs": [],
   "source": []
  }
 ],
 "metadata": {
  "kernelspec": {
   "display_name": "Python 3 (ipykernel)",
   "language": "python",
   "name": "python3"
  },
  "language_info": {
   "codemirror_mode": {
    "name": "ipython",
    "version": 3
   },
   "file_extension": ".py",
   "mimetype": "text/x-python",
   "name": "python",
   "nbconvert_exporter": "python",
   "pygments_lexer": "ipython3",
   "version": "3.10.8"
  }
 },
 "nbformat": 4,
 "nbformat_minor": 5
}
